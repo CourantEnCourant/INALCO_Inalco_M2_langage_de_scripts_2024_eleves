{
  "nbformat": 4,
  "nbformat_minor": 0,
  "metadata": {
    "colab": {
      "provenance": [],
      "authorship_tag": "ABX9TyPyVPM9HlZ59IadYqIT791u",
      "include_colab_link": true
    },
    "kernelspec": {
      "name": "python3",
      "display_name": "Python 3"
    },
    "language_info": {
      "name": "python"
    }
  },
  "cells": [
    {
      "cell_type": "markdown",
      "metadata": {
        "id": "view-in-github",
        "colab_type": "text"
      },
      "source": [
        "<a href=\"https://colab.research.google.com/github/Dinarque/INALCO_Inalco_M2_langage_de_scripts_2024_eleves/blob/main/TP/TP3_les_sombres_secrets_de_l_INALCO.ipynb\" target=\"_parent\"><img src=\"https://colab.research.google.com/assets/colab-badge.svg\" alt=\"Open In Colab\"/></a>"
      ]
    },
    {
      "cell_type": "markdown",
      "source": [
        "# TP 3 : Les sombres secrets de l'INALCO"
      ],
      "metadata": {
        "id": "d7b4ZBQgzo_a"
      }
    },
    {
      "cell_type": "markdown",
      "source": [
        "La plupart des sites webs proposent une expérience de navigation guidée et souvent clairement structurée (section, sous section, article...) permettant à l'utilisateur d'accéder aux informations qu'on l'autorise à voir.\n",
        "Derrière les coulisses, un site web ressemble plutôt à une forme d'arboresence de fichiers ,( différents \"/\" dans les url) une arborescence d'url menant chacun à une page web unique, souvent connectée aux autres mais pas forcéments.\n",
        "Par exemple une url peut mener directement à un fichier (pdf d'un cours dont le lien est donné sur la page moodle, le lien peut envoyer vers un fichier stocké à l'extérieur ou dans un site). Des url peuvent stocker des pages périmées non accessibles depuis les autres liens du site et qui ne sont plus référencées (anciennes versions de brochures pour l'année scolaire 2021-2022...) ou encore à des pages auxquelles ne peuvent accéder que des utilisateurs identifiés (si leur accès est correctement protégé).\n",
        "Ainsi le site naviguable que l'utilisateur explore n'est souvent que le haut de l'iceberg. Toutes les autres pages web du site non trivialement accessibles peuvent pourtant contenir des informations très intéressantes notamment d'un point de vue stratégique et sont potentiellement une mine d'information dans le cadre de l'OSINT.\n",
        "Nous allons apprendre à collecter ces informations cachées et les rendre exploitables au moyen de techniques modernes de NLP.\n",
        "\n",
        "PS : les techniques vues dans ce TP ne doivent être employées que dans des buts éthiques. L'utilisateur de l'outil est responsable de ses actes je ne fais que vous apprendre à mettre ensemble des pièces de puzzle déjà en libre accès sur github ou dans les cordes de tout programmeur compétent.\n",
        "\n",
        "Comme vous le savez tous, les sites des universités ne sont pas forcément toujours bien organisés ou mis à jour. Nous allons donc construire un moteur de recherche documentaire sur les cours de l'INALCO à partir des données du site officiel.\n",
        "\n"
      ],
      "metadata": {
        "id": "yy4Ovp3RzuAz"
      }
    },
    {
      "cell_type": "markdown",
      "source": [
        "# Objectifs:\n",
        "* découvrir et expérimenter plusieurs techniques de crawling et de dorking pour apprendre à extraire les données pertinentes d'un site web (outils en ligne de commande, librairies extérieures)\n",
        "* Concevoir un code orienté objet\n",
        "* Apprendre à traîter de grandes quantités de fichiers\n",
        "* apprendre à optimiser la performance de ses programmes en passant d'une architecture séquentielle à une architecture parallèlisée\n",
        "* apprendre les concepts basiques de la gestion de bases de données et de la recherche sémantique"
      ],
      "metadata": {
        "id": "96lulAlN2NYO"
      }
    },
    {
      "cell_type": "markdown",
      "source": [
        "# Partie 1 : Dorking and crawling your way to the data"
      ],
      "metadata": {
        "id": "vwLVoY2717tb"
      }
    },
    {
      "cell_type": "markdown",
      "source": [
        "1)"
      ],
      "metadata": {
        "id": "OX0ry9Oe3RS-"
      }
    },
    {
      "cell_type": "code",
      "execution_count": null,
      "metadata": {
        "id": "ytiLt3t_zdv2"
      },
      "outputs": [],
      "source": []
    },
    {
      "cell_type": "markdown",
      "source": [
        "# Partie 2 : la Data Prep"
      ],
      "metadata": {
        "id": "yxXALhiC2CoC"
      }
    },
    {
      "cell_type": "code",
      "source": [],
      "metadata": {
        "id": "KffJcqUr2HCv"
      },
      "execution_count": null,
      "outputs": []
    },
    {
      "cell_type": "markdown",
      "source": [
        "# Partie 3 : construire le moteur d'indexation documentaire\n"
      ],
      "metadata": {
        "id": "D7MwycRF5yuK"
      }
    }
  ]
}