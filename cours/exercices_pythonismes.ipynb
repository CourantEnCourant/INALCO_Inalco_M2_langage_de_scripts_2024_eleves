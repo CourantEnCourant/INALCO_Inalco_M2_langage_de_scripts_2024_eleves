{
  "nbformat": 4,
  "nbformat_minor": 0,
  "metadata": {
    "colab": {
      "provenance": [],
      "authorship_tag": "ABX9TyMPHA3bcnMibgSST4dyKn/i",
      "include_colab_link": true
    },
    "kernelspec": {
      "name": "python3",
      "display_name": "Python 3"
    },
    "language_info": {
      "name": "python"
    }
  },
  "cells": [
    {
      "cell_type": "markdown",
      "metadata": {
        "id": "view-in-github",
        "colab_type": "text"
      },
      "source": [
        "<a href=\"https://colab.research.google.com/github/Dinarque/INALCO_Inalco_M2_langage_de_scripts_2024_eleves/blob/main/cours/exercices_pythonismes.ipynb\" target=\"_parent\"><img src=\"https://colab.research.google.com/assets/colab-badge.svg\" alt=\"Open In Colab\"/></a>"
      ]
    },
    {
      "cell_type": "markdown",
      "source": [
        "# Python tricks : quelques exercices d'application"
      ],
      "metadata": {
        "id": "sP2QqqX_eNpN"
      }
    },
    {
      "cell_type": "markdown",
      "source": [
        "1) Créez une liste de 100 éléments qui contient les chiffres de 1 à 4 qui se répètenet en boucle"
      ],
      "metadata": {
        "id": "jaYme2freOhI"
      }
    },
    {
      "cell_type": "code",
      "execution_count": null,
      "metadata": {
        "id": "SimuWMrtVpKM"
      },
      "outputs": [],
      "source": []
    },
    {
      "cell_type": "markdown",
      "source": [
        "2) En une ligne de code, retournez la liste des nombres pairs présents dans la liste suivante"
      ],
      "metadata": {
        "id": "YCXaHOf_bmae"
      }
    },
    {
      "cell_type": "code",
      "source": [
        "liste = [1,25,4,6,8,95,32,65,45,54,1,7,2,0]"
      ],
      "metadata": {
        "id": "KR4zx0C6VsLb"
      },
      "execution_count": null,
      "outputs": []
    },
    {
      "cell_type": "markdown",
      "source": [
        "3) En utilisant une fonction lambda, transformez la liste suivante en mots en majuscules"
      ],
      "metadata": {
        "id": "4uG2dphMydRn"
      }
    },
    {
      "cell_type": "code",
      "source": [
        "liste = [\"chacal\",\"renard\",\"caribou\",\"chat\",\"boucanal\"]"
      ],
      "metadata": {
        "id": "rB6DPlSxycl-"
      },
      "execution_count": 1,
      "outputs": []
    },
    {
      "cell_type": "markdown",
      "source": [
        "4) Ecrire ***en une ligne de code *** un dictionnaire qui attribue à un mot dans une liste son index dans une liste de mots"
      ],
      "metadata": {
        "id": "vNaaNkJDVsgr"
      }
    },
    {
      "cell_type": "code",
      "source": [
        "liste = [\"chacal\",\"renard\",\"caribou\",\"chat\",\"boucanal\"]"
      ],
      "metadata": {
        "id": "L4c-P5VvV7Q1"
      },
      "execution_count": 2,
      "outputs": []
    },
    {
      "cell_type": "markdown",
      "source": [
        "5) En **Une seule ligne de code** combinez deux listes de taille égale en un dicitonnaire"
      ],
      "metadata": {
        "id": "VkcF7fmhapsJ"
      }
    },
    {
      "cell_type": "code",
      "source": [
        "liste_cles = ['a', 'b', 'c']\n",
        "liste_valeurs = [1, 2, 3]"
      ],
      "metadata": {
        "id": "-dc-oog0axkz"
      },
      "execution_count": null,
      "outputs": []
    },
    {
      "cell_type": "markdown",
      "source": [
        "6) sélectionnez d'un coup le premier et le dernier animal du tuple sans utiliser de slicing / de crochet"
      ],
      "metadata": {
        "id": "u5_sFJlQyw3D"
      }
    },
    {
      "cell_type": "code",
      "source": [
        "tupl = (\"chacal\",\"renard\",\"caribou\",\"chat\",\"boucanal\")"
      ],
      "metadata": {
        "id": "H2--4WwWzPPr"
      },
      "execution_count": 4,
      "outputs": []
    },
    {
      "cell_type": "markdown",
      "source": [
        "7) écrire un programme qui renvoie la liste des indices des éléments pairs et la liste des éléments impairs d'une liste"
      ],
      "metadata": {
        "id": "sGsURVa0zj_b"
      }
    },
    {
      "cell_type": "code",
      "source": [
        "liste = [1,25,4,6,8,95,32,65,45,54,1,7,2,0]"
      ],
      "metadata": {
        "id": "hRXXuaORyxAh"
      },
      "execution_count": null,
      "outputs": []
    },
    {
      "cell_type": "markdown",
      "source": [
        "8) écris une fonction qui prend en entrée un dictionnaire associant un caractère à son nombre d'occurrence et renvoie une guirlande de ces caractères séparés par \"_\".\n",
        "Indice : il faut utiliser DEUX pythonismes."
      ],
      "metadata": {
        "id": "F9puoDNe1eQj"
      }
    },
    {
      "cell_type": "code",
      "source": [
        "dic = {\"!\": 8, \"*\": 5, \"?\":2}"
      ],
      "metadata": {
        "id": "uyOHl3H32FU3"
      },
      "execution_count": null,
      "outputs": []
    },
    {
      "cell_type": "markdown",
      "source": [
        "9)  filtrer le dictionnaire de sorte à ne garder que les paires où la longueur de la clé est strictement supérieure à la valeur associée"
      ],
      "metadata": {
        "id": "Alt6_e9t23Qc"
      }
    },
    {
      "cell_type": "code",
      "source": [
        "dictionnaire = {\n",
        "    \"éléphant\": 3,\n",
        "    \"chat\": 5,\n",
        "    \"crocodile\": 7,\n",
        "    \"chien\": 4,\n",
        "    \"girafe\": 6\n",
        "}"
      ],
      "metadata": {
        "id": "7iUF0E7T241r"
      },
      "execution_count": null,
      "outputs": []
    },
    {
      "cell_type": "markdown",
      "source": [
        "10) La liste de tuples contient le prix au kilo de certains fruits.\n",
        "Trier cette liste selon le prix par ordre croissant"
      ],
      "metadata": {
        "id": "1BTWX3VB3SR9"
      }
    },
    {
      "cell_type": "code",
      "source": [
        "liste_tuples = [(\"pomme\", 10), (\"banane\", 5), (\"cerise\", 12), (\"datte\", 7)]"
      ],
      "metadata": {
        "id": "qphnY0ET1eYx"
      },
      "execution_count": null,
      "outputs": []
    }
  ]
}