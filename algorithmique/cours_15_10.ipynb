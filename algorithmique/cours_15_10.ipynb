{
 "cells": [
  {
   "metadata": {
    "ExecuteTime": {
     "end_time": "2024-10-15T14:20:03.677515Z",
     "start_time": "2024-10-15T14:20:03.672135Z"
    }
   },
   "cell_type": "code",
   "source": [
    "from typing import List, Dict\n",
    "from collections import Counter"
   ],
   "id": "2bff07aa64362f0c",
   "outputs": [],
   "execution_count": 6
  },
  {
   "metadata": {
    "ExecuteTime": {
     "end_time": "2024-10-15T14:50:39.448009Z",
     "start_time": "2024-10-15T14:50:39.438043Z"
    }
   },
   "cell_type": "code",
   "source": [
    "def is_anagram(str1: str, str2: str) -> bool:\n",
    "    return Counter(str1) == Counter(str2)\n",
    "\n",
    "def group_anagram(strings: List[str]):\n",
    "    groups = []\n",
    "    match strings:\n",
    "        case []:\n",
    "            return []\n",
    "        case [last_element]:\n",
    "            return [[last_element]]\n",
    "        case _:\n",
    "            group = []\n",
    "            reference = strings.pop()\n",
    "            group.append(reference)\n",
    "            for index, string in enumerate(strings):\n",
    "                if is_anagram(reference, string):\n",
    "                    group.append(string)\n",
    "                    strings.pop(index)\n",
    "                    \n",
    "            groups.append(group)\n",
    "            return groups + group_anagram(strings)\n",
    "    "
   ],
   "id": "initial_id",
   "outputs": [],
   "execution_count": 20
  },
  {
   "metadata": {
    "ExecuteTime": {
     "end_time": "2024-10-15T14:50:40.338721Z",
     "start_time": "2024-10-15T14:50:40.329072Z"
    }
   },
   "cell_type": "code",
   "source": [
    "a = [\"bat\", \"nat\", \"tan\", \"atb\", \"\"]\n",
    "group_anagram(a)"
   ],
   "id": "cc0357a7517a594b",
   "outputs": [
    {
     "data": {
      "text/plain": [
       "[['atb', 'bat'], ['tan', 'nat']]"
      ]
     },
     "execution_count": 22,
     "metadata": {},
     "output_type": "execute_result"
    }
   ],
   "execution_count": 22
  }
 ],
 "metadata": {
  "kernelspec": {
   "display_name": "Python 3",
   "language": "python",
   "name": "python3"
  },
  "language_info": {
   "codemirror_mode": {
    "name": "ipython",
    "version": 2
   },
   "file_extension": ".py",
   "mimetype": "text/x-python",
   "name": "python",
   "nbconvert_exporter": "python",
   "pygments_lexer": "ipython2",
   "version": "2.7.6"
  }
 },
 "nbformat": 4,
 "nbformat_minor": 5
}
