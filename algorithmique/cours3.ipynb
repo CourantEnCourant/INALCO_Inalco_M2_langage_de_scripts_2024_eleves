{
 "cells": [
  {
   "cell_type": "code",
   "id": "initial_id",
   "metadata": {
    "collapsed": true,
    "ExecuteTime": {
     "end_time": "2024-10-01T14:38:46.579610Z",
     "start_time": "2024-10-01T14:38:46.566973Z"
    }
   },
   "source": [
    "def is_palindrome(input_str: str) -> bool:\n",
    "    stack = list(input_str)\n",
    "    \n",
    "    for letter in input_str:\n",
    "        if letter != stack.pop():\n",
    "            return False\n",
    "            \n",
    "    return True"
   ],
   "outputs": [
    {
     "data": {
      "text/plain": [
       "True"
      ]
     },
     "execution_count": 8,
     "metadata": {},
     "output_type": "execute_result"
    }
   ],
   "execution_count": 8
  },
  {
   "metadata": {
    "ExecuteTime": {
     "end_time": "2024-10-01T14:59:52.502340Z",
     "start_time": "2024-10-01T14:59:52.492322Z"
    }
   },
   "cell_type": "code",
   "source": [
    "def all_substrings(input_str: str) -> list:\n",
    "    if not input_str:\n",
    "        return []\n",
    "    else:\n",
    "        substrings = []\n",
    "        for i in range(len(input_str)):\n",
    "            substrings.append(input_str[:i+1])\n",
    "\n",
    "        return substrings + all_substrings(input_str[1:])"
   ],
   "id": "c726801c5bb4e2e8",
   "outputs": [],
   "execution_count": 17
  },
  {
   "metadata": {
    "ExecuteTime": {
     "end_time": "2024-10-01T15:06:42.410082Z",
     "start_time": "2024-10-01T15:06:42.398174Z"
    }
   },
   "cell_type": "code",
   "source": [
    "def longest_palindrome_force(input_str: str) -> str:\n",
    "    count = 0\n",
    "    \n",
    "    all_substrings_list = all_substrings(input_str)\n",
    "    for substring in all_substrings_list:\n",
    "        if is_palindrome(substring):\n",
    "            palindrome_length = len(substring)\n",
    "            count = max(count, palindrome_length)\n",
    "            \n",
    "    return count\n",
    "\n",
    "\n",
    "longest_palindrome_force(\"iressasser\")"
   ],
   "id": "99c37e7300a9b335",
   "outputs": [
    {
     "data": {
      "text/plain": [
       "9"
      ]
     },
     "execution_count": 20,
     "metadata": {},
     "output_type": "execute_result"
    }
   ],
   "execution_count": 20
  },
  {
   "metadata": {},
   "cell_type": "code",
   "outputs": [],
   "execution_count": null,
   "source": "",
   "id": "a0729012b3e7f00"
  }
 ],
 "metadata": {
  "kernelspec": {
   "display_name": "Python 3",
   "language": "python",
   "name": "python3"
  },
  "language_info": {
   "codemirror_mode": {
    "name": "ipython",
    "version": 2
   },
   "file_extension": ".py",
   "mimetype": "text/x-python",
   "name": "python",
   "nbconvert_exporter": "python",
   "pygments_lexer": "ipython2",
   "version": "2.7.6"
  }
 },
 "nbformat": 4,
 "nbformat_minor": 5
}
