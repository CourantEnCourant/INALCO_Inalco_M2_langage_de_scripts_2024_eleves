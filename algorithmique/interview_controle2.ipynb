{
  "nbformat": 4,
  "nbformat_minor": 0,
  "metadata": {
    "colab": {
      "provenance": [],
      "authorship_tag": "ABX9TyMu6JC8e+FLjn/secSOhf2K",
      "include_colab_link": true
    },
    "kernelspec": {
      "name": "python3",
      "display_name": "Python 3"
    },
    "language_info": {
      "name": "python"
    }
  },
  "cells": [
    {
      "cell_type": "markdown",
      "metadata": {
        "id": "view-in-github",
        "colab_type": "text"
      },
      "source": [
        "<a href=\"https://colab.research.google.com/github/Dinarque/INALCO_Inalco_M2_langage_de_scripts_2024_eleves/blob/main/algorithmique/interview_controle2.ipynb\" target=\"_parent\"><img src=\"https://colab.research.google.com/assets/colab-badge.svg\" alt=\"Open In Colab\"/></a>"
      ]
    },
    {
      "cell_type": "markdown",
      "source": [
        "# Interview controle 2\n",
        "\n",
        "Traitez le problème suivant. Indiquez et justifiez la complexité de votre solution\n",
        "\n",
        "\n",
        "On vous donne un tableau d'entiers 0-indexé nums de longueur n. Vous êtes initialement positionné à nums[0].\n",
        "\n",
        "Chaque élément nums[i] représente la longueur maximale d'un saut en avant depuis l'index i. En d'autres termes, si vous êtes à nums[i], vous pouvez sauter vers n'importe quel nums[i + j] où : 0≤j≤nums[i] et i+j<n\n",
        "\n",
        "Retournez le nombre minimal de sauts pour atteindre nums[n - 1]\n",
        "\n",
        "\n",
        "\n",
        "Exemple 1 :\n",
        "\n",
        "Entrée : nums = [2, 3, 1, 1, 4]\n",
        "\n",
        "Sortie : 2\n",
        "\n",
        "Explication : Le nombre minimal de sauts pour atteindre le dernier index est 2. Sauter 1 pas de l'index 0 à l'index 1, puis 3 pas jusqu'à l'index final."
      ],
      "metadata": {
        "id": "dvImx2-Tu2_2"
      }
    },
    {
      "cell_type": "code",
      "source": [
        "ex =  [2, 3, 1, 1, 4]"
      ],
      "metadata": {
        "id": "142JCJWg3yqn"
      },
      "execution_count": 5,
      "outputs": []
    },
    {
      "cell_type": "markdown",
      "source": [
        "# Solution 1 : Approche récursive\n"
      ],
      "metadata": {
        "id": "V7uo6uDoz1Jk"
      }
    },
    {
      "cell_type": "markdown",
      "source": [
        "La différence par rapport à une fonction récursive  pour l interview précédente est qu on ne veut pas forcément commencer du début, on \"commence par l'inverse\" en voyant combien de sauts il faut depuis l index de départ pour arriver à la fin\n",
        "\n",
        "la clé du pb est la condition de mise à jour.\n",
        "a forumuler en langage naturel d abord"
      ],
      "metadata": {
        "id": "Jynqp3Ca12Ax"
      }
    },
    {
      "cell_type": "code",
      "source": [
        "def minimum_jumps(nums, index_de_depart=0):\n",
        "\n",
        "\n",
        "    # cas trivial\n",
        "    if index_de_depart >= len(nums) - 1:\n",
        "        return 0\n",
        "\n",
        "    # Si nums[index_de_depart] est 0, on ne peut pas avancer\n",
        "    if nums[index_de_depart] == 0:\n",
        "        return float('inf')\n",
        "\n",
        "    # Explorer tous les sauts possibles depuis cet index\n",
        "    min_steps = float('inf')\n",
        "    for step in range(1, nums[index_de_depart] + 1):\n",
        "        min_steps = min(min_steps, 1 + minimum_jumps(nums, index_de_depart + step))\n",
        "        # on teste le minimum de steps pour atteindre la fin depuis chaque etape de l intervalle atteignable\n",
        "        # on peut avoir cette info de façon récursive, et remonter de la fin ou c est trivial ou début\n",
        "\n",
        "    return min_steps\n"
      ],
      "metadata": {
        "id": "pyKNux660BJS"
      },
      "execution_count": 10,
      "outputs": []
    },
    {
      "cell_type": "code",
      "source": [
        "minimum_jumps(ex)"
      ],
      "metadata": {
        "colab": {
          "base_uri": "https://localhost:8080/"
        },
        "id": "6a12sV8532Q6",
        "outputId": "eaae739e-c5f6-483b-a5a0-bc1c747563b9"
      },
      "execution_count": 11,
      "outputs": [
        {
          "output_type": "execute_result",
          "data": {
            "text/plain": [
              "2"
            ]
          },
          "metadata": {},
          "execution_count": 11
        }
      ]
    },
    {
      "cell_type": "markdown",
      "source": [
        "Complexité exponentielle , tres mauvais\n",
        "on peut améliorer en stockant de façon externe les cases déjà visitées,\n",
        "réduit à O(n2)\n",
        "\n",
        "\n"
      ],
      "metadata": {
        "id": "_EFY38gY3XrM"
      }
    },
    {
      "cell_type": "markdown",
      "source": [
        "# Solution 2 : stocker les valeurs\n",
        "\n"
      ],
      "metadata": {
        "id": "JdCfI07V0V5H"
      }
    },
    {
      "cell_type": "markdown",
      "source": [
        "approche dite \"programmation dynamique\""
      ],
      "metadata": {
        "id": "_wOnj9XR0YTg"
      }
    },
    {
      "cell_type": "code",
      "source": [
        "def minimum_jumps(nums):\n",
        "\n",
        "    if len(nums) <= 1:\n",
        "        return 0  # Aucun saut nécessaire si le tableau a une seule case ou est vide.\n",
        "\n",
        "    # On crée un tableau stockant le nombre de saut minimum pour aller à la fin et on va le mettre à jour au fur et à mesure de l'algo\n",
        "    min_to_reach_i = [float('inf')] * len(nums)\n",
        "\n",
        "    min_to_reach_i[0] = 0  # Il faut 0 saut pour arriver à la première position.\n",
        "\n",
        "    for i in range(len(nums)):\n",
        "        for j in range(1, nums[i] + 1):\n",
        "            if i + j < len(nums):\n",
        "                min_to_reach_i[i + j] = min(min_to_reach_i[i + j], min_to_reach_i[i] + 1)\n",
        "\n",
        "    return min_to_reach_i[-1]"
      ],
      "metadata": {
        "id": "wDiWlYks0cYD"
      },
      "execution_count": 14,
      "outputs": []
    },
    {
      "cell_type": "code",
      "source": [
        "minimum_jumps(ex)"
      ],
      "metadata": {
        "colab": {
          "base_uri": "https://localhost:8080/"
        },
        "id": "aiUkkHXT36FA",
        "outputId": "ad312f01-079a-4e32-84bb-fac27800aa6e"
      },
      "execution_count": 15,
      "outputs": [
        {
          "output_type": "execute_result",
          "data": {
            "text/plain": [
              "2"
            ]
          },
          "metadata": {},
          "execution_count": 15
        }
      ]
    },
    {
      "cell_type": "markdown",
      "source": [
        "O(n2) ,\n",
        " le cas de base de la programmation dynamique ou la solution au rang n dépend de celle des rangs précédents.  ici on fait l update de façon progressive quitte à dépasser i dans min_to_reach, bien pus efficace que je juste se préoccuper de i"
      ],
      "metadata": {
        "id": "CYOJdzQD07kJ"
      }
    },
    {
      "cell_type": "markdown",
      "source": [
        "# Solution 3 : rapide et efficace"
      ],
      "metadata": {
        "id": "1lAOknaHvW1O"
      }
    },
    {
      "cell_type": "markdown",
      "source": [
        "On essaie de voir à la case i le plus loin où on peut aller\n",
        "\n",
        "L'idée consiste à gérer au mieux les variables\n",
        "\n",
        "On a une variable j qui stocke le nombre de sauts minimum effectué pour atteindre la case i\n",
        "\n",
        "L'idée est de distinguer la variable représentant la case la plus lointaine qu'on peut atteindre en tout dans le jeu est celle la plus loin qu'on peut atteindre en j sauts\n",
        "\n",
        "C'est seulement quand on dépasse"
      ],
      "metadata": {
        "id": "4a7WMi6Tvq0N"
      }
    },
    {
      "cell_type": "code",
      "source": [
        "def minimum_jumps(nums):\n",
        "        \"\"\"\n",
        "        :type nums: List[int]\n",
        "        :rtype: int\n",
        "        \"\"\"\n",
        "\n",
        "        # Cas trivial\n",
        "        if len(nums) <= 1:\n",
        "            return 0\n",
        "\n",
        "        jumps = 0\n",
        "        current_end = 0 # intervalle atteignable avec jumps sauts , \"intervalle d'atteignabilité avec le nombre de sauts déjà réalisés \"\n",
        "        farthest = 0\n",
        "\n",
        "        for i in range(len(nums)):\n",
        "            # Mettez à jour le farthest (l'indice le plus loin qu'on peut atteindre)\n",
        "            # Le nouveau max atteignable est soit l'ancien soit le plus grand saut qu'on puisse faire depuis la case i\n",
        "            farthest = max(farthest, i + nums[i])\n",
        "\n",
        "            # Si on atteint la fin de l'intervalle actuel, on fait un saut pour pouvoir aller plus loin\n",
        "            if i == current_end:\n",
        "                jumps += 1\n",
        "                current_end = farthest #l'intervalle atteignable avec un saut supplémentaire devient le maximum qu'on peut atteindre\n",
        "                # Si le farthest atteint ou dépasse la fin du tableau, on peut arrêter\n",
        "                if current_end >= len(nums) - 1:\n",
        "                    break\n",
        "\n",
        "        return jumps"
      ],
      "metadata": {
        "id": "VpciVI1OBbOH"
      },
      "execution_count": 17,
      "outputs": []
    },
    {
      "cell_type": "code",
      "source": [
        "minimum_jumps(ex)"
      ],
      "metadata": {
        "colab": {
          "base_uri": "https://localhost:8080/"
        },
        "id": "NEANlB8737uf",
        "outputId": "7f1a445e-0ac9-46c3-b576-5b59e3e22858"
      },
      "execution_count": 18,
      "outputs": [
        {
          "output_type": "execute_result",
          "data": {
            "text/plain": [
              "2"
            ]
          },
          "metadata": {},
          "execution_count": 18
        }
      ]
    },
    {
      "cell_type": "markdown",
      "source": [
        "# Bonus : recherche en largeur"
      ],
      "metadata": {
        "id": "G8r46w5Z4fHF"
      }
    },
    {
      "cell_type": "markdown",
      "source": [
        "Considérez chaque index comme un noeud dans un graphe, avec les sauts possibles comme arêtes. Utilisez une recherche en largeur pour trouver le chemin le plus court vers le dernier noeud.\n",
        "s inspire de la théorie des automates"
      ],
      "metadata": {
        "id": "z8-RPjmJ4497"
      }
    },
    {
      "cell_type": "code",
      "source": [
        "from collections import deque\n",
        "\n",
        "def minimum_jumps(nums):\n",
        "    n = len(nums)\n",
        "    if n <= 1:\n",
        "        return 0\n",
        "\n",
        "    queue = deque([(0, 0)])  # (index atteint,  nombre de sauts nécessaires pour atteindre )\n",
        "    # Pour chaque nombre de sauts on regarde tout ce qu'on peut atteindre\n",
        "    # puis on regarde à partir de tous ces noeuds atteignables ceux qu'on peut atteindre avec un saut de plus\n",
        "    # on ajoute ces découvertes à la queue\n",
        "    # On arrête quand on atteint la fin.\n",
        "    # ça marche car on est dans un DAG (pas de cycles, même si on aurait pu s'en tirer avec un filtre sur l indice)\n",
        "    visited = set()\n",
        "\n",
        "    while queue:\n",
        "        print(queue)\n",
        "        index, jumps = queue.popleft()\n",
        "        if index == n - 1:\n",
        "            return jumps\n",
        "\n",
        "        for step in range(1, nums[index] + 1):\n",
        "            next_index = index + step\n",
        "            if next_index < n and next_index not in visited:\n",
        "                visited.add(next_index)\n",
        "                queue.append((next_index, jumps + 1))\n",
        "\n",
        "    return float('inf')"
      ],
      "metadata": {
        "id": "PZgvMrQf4hnd"
      },
      "execution_count": 20,
      "outputs": []
    },
    {
      "cell_type": "code",
      "source": [
        "minimum_jumps(ex)"
      ],
      "metadata": {
        "colab": {
          "base_uri": "https://localhost:8080/"
        },
        "id": "OxWYMHzs5NT_",
        "outputId": "5fb59efc-8d7d-4c64-99c2-6cfcf4c76087"
      },
      "execution_count": 21,
      "outputs": [
        {
          "output_type": "stream",
          "name": "stdout",
          "text": [
            "deque([(0, 0)])\n",
            "deque([(1, 1), (2, 1)])\n",
            "deque([(2, 1), (3, 2), (4, 2)])\n",
            "deque([(3, 2), (4, 2)])\n",
            "deque([(4, 2)])\n"
          ]
        },
        {
          "output_type": "execute_result",
          "data": {
            "text/plain": [
              "2"
            ]
          },
          "metadata": {},
          "execution_count": 21
        }
      ]
    },
    {
      "cell_type": "markdown",
      "source": [
        "# Programmation Objet : dictionnaires expérimentaux"
      ],
      "metadata": {
        "id": "VjB1sox_5_5V"
      }
    },
    {
      "cell_type": "markdown",
      "source": [
        "# A) le dictionnaire à clé\n",
        "\n",
        "On veut sécuriser le dictionnaire ! Seules les personnes qui ont la clé secrète doivent pouvoir lire les valeurs.\n",
        "\n",
        "Implémentez une classe de dictionnaire telle que :\n",
        "* le dictionnaire peut être initialisé optionellement avec un password(str). Si il n’en a pas il se comportera comme un dictionnaire normal.\n",
        "* Sinon quand on veut modifier la valeur d’une clé il faudra donner le mot de passe pour éditer une valeur\n",
        "dic[“a”, password] = 3\n",
        "* si le mot de passe est faux une erreur s’affiche\n"
      ],
      "metadata": {
        "id": "zjCVXOVz6DQr"
      }
    },
    {
      "cell_type": "code",
      "source": [
        "class DictionnaireACle:\n",
        "    def __init__(self, password=None):\n",
        "        self.data = {}\n",
        "        self.password = password  # besoin d'un nouveau champs dans l'init\n",
        "\n",
        "    def __getitem__(self, key):\n",
        "        # rien ne change, il faut juste recoder en utilisant les données\n",
        "        return self.data[key]\n",
        "\n",
        "    def __setitem__(self, key, value):\n",
        "        # Ici la clé du problème est de considérer que la clé est un tuple et plus une valeur simple pour avoir le fonctionnement attendu\n",
        "\n",
        "        if self.password:\n",
        "            if not isinstance(key, tuple) or len(key) != 2:\n",
        "                raise ValueError(\"Ce dictionnaire est protégé. Utilisez un tuple (clé, mot de passe) comme clé.\")\n",
        "            actual_key, password = key\n",
        "            if password != self.password:\n",
        "                raise ValueError(\"Mot de passe incorrect.\")\n",
        "            self.data[actual_key] = value\n",
        "        else:\n",
        "            self.data[key] = value\n"
      ],
      "metadata": {
        "id": "Rk4Or2Ya6LY_"
      },
      "execution_count": 34,
      "outputs": []
    },
    {
      "cell_type": "code",
      "source": [
        "dic1 = DictionnaireACle()\n",
        "dic1[\"a\"] = 1\n",
        "print(dic1[\"a\"])  # Affiche 1\n",
        "\n",
        "dic2 = DictionnaireACle(password=\"secret123\")\n",
        "dic2[\"a\", \"secret123\"] = 42\n",
        "dic2[\"b\", \"secret123\"] = 99\n",
        "\n",
        "# Lecture des valeurs\n",
        "print(dic2[\"a\"])  # Affiche : 42\n",
        "print(dic2[\"b\"])  # Affiche : 99\n",
        "\n",
        "# Modification d'une valeur avec mot de passe\n",
        "dic2[\"a\", \"secret123\"] = 100\n",
        "print(dic2[\"a\"])  # Affiche : 100\n",
        "\n",
        "# Essai d'accès sans mot de passe (Erreur)\n",
        "try:\n",
        "    dic2[\"c\"] = 5\n",
        "except ValueError as e:\n",
        "    print(e)\n",
        "\n",
        "# Essai avec un mot de passe incorrect (Erreur)\n",
        "try:\n",
        "    dic2[\"b\", \"wrongpassword\"] = 123\n",
        "except ValueError as e:\n",
        "    print(e)"
      ],
      "metadata": {
        "colab": {
          "base_uri": "https://localhost:8080/"
        },
        "id": "AOPJxTmG6Cwm",
        "outputId": "5bc64041-33fe-4254-cd94-71a115e15b1c"
      },
      "execution_count": 33,
      "outputs": [
        {
          "output_type": "stream",
          "name": "stdout",
          "text": [
            "1\n",
            "42\n",
            "99\n",
            "100\n",
            "Ce dictionnaire est protégé. Utilisez un tuple (clé, mot de passe).\n",
            "Mot de passe incorrect.\n"
          ]
        }
      ]
    },
    {
      "cell_type": "markdown",
      "source": [
        "# Autre option : tirer parti de l'héritage en faisant hériter de dict\n",
        "\n",
        "mieux car du coup votre dictionnaire à clé n'est pas juste un objet qui contient un dict data, c'est vraiment un dictionnaire !!"
      ],
      "metadata": {
        "id": "HxFx8Qwo-gl3"
      }
    },
    {
      "cell_type": "code",
      "source": [
        "class DictionnaireACleHeritage(dict):\n",
        "    def __init__(self, password=None, *args, **kwargs):\n",
        "\n",
        "        super().__init__(*args, **kwargs)\n",
        "        self._password = password\n",
        "\n",
        "    def __getitem__(self, key):  # Pas nécessaire grace à l'héritage\n",
        "        return super().__getitem__(key)\n",
        "\n",
        "    def __setitem__(self, key, value):\n",
        "        if self._password:\n",
        "            if isinstance(key, tuple) and len(key) == 2:\n",
        "                key, password = key\n",
        "                if password == self._password:\n",
        "                    super().__setitem__(key, value)\n",
        "                else:\n",
        "                    raise ValueError(\"Mot de passe incorrect.\")\n",
        "            else:\n",
        "                raise ValueError(\n",
        "                    \"Ce dictionnaire est protégé. Utilisez un tuple (clé, mot de passe).\"\n",
        "                )\n",
        "        else:\n",
        "            super().__setitem__(key, value)"
      ],
      "metadata": {
        "id": "awE6v39U-m62"
      },
      "execution_count": 36,
      "outputs": []
    },
    {
      "cell_type": "code",
      "source": [
        "dic1 = DictionnaireACleHeritage()\n",
        "dic1[\"a\"] = 1\n",
        "print(dic1[\"a\"])  # Affiche 1\n",
        "\n",
        "dic2 = DictionnaireACleHeritage(password=\"secret123\")\n",
        "dic2[\"a\", \"secret123\"] = 42\n",
        "dic2[\"b\", \"secret123\"] = 99\n",
        "\n",
        "# Lecture des valeurs\n",
        "print(dic2[\"a\"])  # Affiche : 42\n",
        "print(dic2[\"b\"])  # Affiche : 99\n",
        "\n",
        "# Modification d'une valeur avec mot de passe\n",
        "dic2[\"a\", \"secret123\"] = 100\n",
        "print(dic2[\"a\"])  # Affiche : 100\n",
        "\n",
        "# Essai d'accès sans mot de passe (Erreur)\n",
        "try:\n",
        "    dic2[\"c\"] = 5\n",
        "except ValueError as e:\n",
        "    print(e)\n",
        "\n",
        "# Essai avec un mot de passe incorrect (Erreur)\n",
        "try:\n",
        "    dic2[\"b\", \"wrongpassword\"] = 123\n",
        "except ValueError as e:\n",
        "    print(e)"
      ],
      "metadata": {
        "colab": {
          "base_uri": "https://localhost:8080/"
        },
        "id": "V_VNuPzY_GPK",
        "outputId": "d24afc33-3266-47ba-ce0e-43e8b8c24c84"
      },
      "execution_count": 38,
      "outputs": [
        {
          "output_type": "stream",
          "name": "stdout",
          "text": [
            "1\n",
            "42\n",
            "99\n",
            "100\n",
            "Ce dictionnaire est protégé. Utilisez un tuple (clé, mot de passe).\n",
            "Mot de passe incorrect.\n"
          ]
        }
      ]
    },
    {
      "cell_type": "markdown",
      "source": [
        "# B) Le dictionnaire stockeur\n",
        "\n",
        "Normalement quand on attribue une valeur à un dictionnaire, comme dic[“a”] = 3, une réaffectation comme dic[“a”] = 2 vient écraser l’ancienne valeur.\n",
        "Mais on voudrait pouvoir les conserver et faire en sorte que le dictionnaire ait une mémoire.\n",
        "Créez une classe de dictionnaires tel que :\n",
        "* la valeur renvoyée par l’appel dic[k] soit la dernière valeur affectée\n",
        "* lors d’une nouvelle affectation l’ancienne valeur n’est pas détruite mais le dictionnaire stocke une liste des anciennes valeurs affectées.\n",
        "* le dictionnaire a une méthode dic.history(a) qui renvoie l’historique des valeurs\n",
        "* le dictionnaire a une méthode dic.rewind(a) qui supprime la dernière affectation d’une valeur à la clé a si possible\n",
        "Ex :\n",
        "dic[“a”] = 2\n",
        "dic[“a”] = 3\n",
        "print(dic[“a”]) => 3\n",
        "print(dic.history(a)) => [2,3]\n",
        "dic.rewind(a)\n",
        "print(dic[“a”]) => 2\n",
        "\n",
        "\n"
      ],
      "metadata": {
        "id": "LfH9KZDw7m6d"
      }
    },
    {
      "cell_type": "code",
      "source": [
        "class DictionnaireStockeur:\n",
        "\n",
        "    def __init__(self):\n",
        "      # l'idée est qu'on redéfinit les données comme étant une liste de valeurs et plus juste une seule valeur\n",
        "        self.data = {}\n",
        "\n",
        "    def __getitem__(self, key):\n",
        "        return self.data[key][-1] if key in self.data else None # Cela impacte la recherche de la valeur (retourner le dernier élément de la liste)\n",
        "\n",
        "    def __setitem__(self, key, value):  # et l affectation qui est un ajout à une liste\n",
        "        if key not in self.data:\n",
        "            self.data[key] = []\n",
        "        self.data[key].append(value)\n",
        "\n",
        "    def history(self, key):\n",
        "        # Retourne l'historique des valeurs pour une clé donnée, là il suffit de retourner toute la liste\n",
        "        if key in self.data:\n",
        "            return self.data[key]\n",
        "        else:\n",
        "            return []\n",
        "\n",
        "    def rewind(self, key):\n",
        "        # Supprime la dernière valeur si possible\n",
        "        if key in self.data and len(self.data[key]) > 1:\n",
        "            self.data[key].pop()\n",
        "        elif key in self.data and len(self.data[key]) == 1:\n",
        "            del self.data[key]"
      ],
      "metadata": {
        "id": "XAWunVnQ7tE2"
      },
      "execution_count": 28,
      "outputs": []
    },
    {
      "cell_type": "code",
      "source": [
        "dic = DictionnaireStockeur()\n",
        "\n",
        "dic[\"a\"] = 2\n",
        "dic[\"a\"] = 3\n",
        "print(dic[\"a\"])\n",
        "print(dic.history(\"a\"))\n",
        "dic.rewind(\"a\")\n",
        "print(dic[\"a\"])"
      ],
      "metadata": {
        "colab": {
          "base_uri": "https://localhost:8080/"
        },
        "id": "f1YPbkdZ74Jj",
        "outputId": "f974662e-27bd-4373-a944-e7f0129e2c2c"
      },
      "execution_count": 29,
      "outputs": [
        {
          "output_type": "stream",
          "name": "stdout",
          "text": [
            "3\n",
            "[2, 3]\n",
            "2\n"
          ]
        }
      ]
    }
  ]
}