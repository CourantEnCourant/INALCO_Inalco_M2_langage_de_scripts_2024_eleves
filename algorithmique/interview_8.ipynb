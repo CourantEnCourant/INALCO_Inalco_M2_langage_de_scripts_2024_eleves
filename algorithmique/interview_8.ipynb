{
  "nbformat": 4,
  "nbformat_minor": 0,
  "metadata": {
    "colab": {
      "provenance": [],
      "authorship_tag": "ABX9TyN8jk11l0vPIaC7qnZVVV+M",
      "include_colab_link": true
    },
    "kernelspec": {
      "name": "python3",
      "display_name": "Python 3"
    },
    "language_info": {
      "name": "python"
    }
  },
  "cells": [
    {
      "cell_type": "markdown",
      "metadata": {
        "id": "view-in-github",
        "colab_type": "text"
      },
      "source": [
        "<a href=\"https://colab.research.google.com/github/Dinarque/INALCO_Inalco_M2_langage_de_scripts_2024_eleves/blob/main/algorithmique/interview_8.ipynb\" target=\"_parent\"><img src=\"https://colab.research.google.com/assets/colab-badge.svg\" alt=\"Open In Colab\"/></a>"
      ]
    },
    {
      "cell_type": "markdown",
      "source": [
        "# Fusionner les intervalles\n",
        "\n",
        "l'idée est de fusionner des intervalles si ils se superposent\n",
        "inspiré de leetcode\n",
        "\n",
        "Example 1:\n",
        "\n",
        "Input: intervals = [[1,3],[2,6],[8,10],[15,18]]\n",
        "Output: [[1,6],[8,10],[15,18]]\n",
        "\n",
        "Example 2:\n",
        "\n",
        "Input: intervals = [[1,4],[4,5]]\n",
        "Output: [[1,5]]"
      ],
      "metadata": {
        "id": "bPK-YtsKKxR9"
      }
    },
    {
      "cell_type": "markdown",
      "source": [
        "# 1) naïf parcours"
      ],
      "metadata": {
        "id": "Vay-5qfiKr_d"
      }
    },
    {
      "cell_type": "code",
      "source": [
        "def merge_two(intervalle_1, intervalle_2):\n",
        "        # On vérifie si deux intervalles se croisent et on les fusionne si oui\n",
        "        if intervalle_1[1] >= intervalle_2[0] and intervalle_2[1] >= intervalle_1[0]:\n",
        "            return [min(intervalle_1[0], intervalle_2[0]), max(intervalle_1[1], intervalle_2[1])]"
      ],
      "metadata": {
        "id": "GmXhFGgDKiCw"
      },
      "execution_count": null,
      "outputs": []
    },
    {
      "cell_type": "code",
      "source": [
        "def merge( intervals):\n",
        "\n",
        "        if not intervals:\n",
        "            return []\n",
        "\n",
        "        change = True\n",
        "        while change:\n",
        "            change = False\n",
        "            merged_intervals = []\n",
        "\n",
        "            # on tente de merger le premier intervalle avec les autres puis on refait juqsqu'à ne plus trouver de changement\n",
        "            intervalle_0 = intervals[0]\n",
        "            for interval in intervals[1:]:\n",
        "                merged = self.merge_two(intervalle_0, interval)\n",
        "                if merged:\n",
        "                    intervalle_0 = merged\n",
        "                    change = True\n",
        "                else:\n",
        "                    merged_intervals.append(interval)\n",
        "\n",
        "\n",
        "            merged_intervals.append(intervalle_0)\n",
        "            intervals = merged_intervals\n",
        "\n",
        "        return intervals"
      ],
      "metadata": {
        "id": "O0t7O-jjNI4J"
      },
      "execution_count": null,
      "outputs": []
    },
    {
      "cell_type": "markdown",
      "source": [
        "# 2) le tri triche"
      ],
      "metadata": {
        "id": "P2Iu0VwCLc5Y"
      }
    },
    {
      "cell_type": "code",
      "source": [
        "def merge(intervals):\n",
        "\n",
        "        # On trie les intervalles pour n'avoir qu'à faire une boucle\n",
        "        intervals.sort(key=lambda x: x[0])\n",
        "        merged = []\n",
        "\n",
        "        for interval in intervals:\n",
        "            if not merged or merged[-1][1] < interval[0]:\n",
        "                merged.append(interval)\n",
        "            else:\n",
        "\n",
        "                merged[-1] = self.merge_two(merged[-1], interval)\n",
        "\n",
        "        return merged"
      ],
      "metadata": {
        "id": "ubYctP6FKihm"
      },
      "execution_count": null,
      "outputs": []
    },
    {
      "cell_type": "markdown",
      "source": [
        "# 3) recursion"
      ],
      "metadata": {
        "id": "_BsJ6aCtN2XS"
      }
    },
    {
      "cell_type": "code",
      "source": [
        "def merge(intervals):\n",
        "\n",
        "\n",
        "        intervalle_0 = intervals[0]\n",
        "        new_intervals = []\n",
        "        change = False\n",
        "\n",
        "        for interval in intervals[1:]:\n",
        "            merged = self.merge_two(intervalle_0, interval)\n",
        "            if merged:\n",
        "                intervalle_0 = merged\n",
        "                change = True\n",
        "            else:\n",
        "                new_intervals.append(interval)\n",
        "        new_intervals.insert(0, intervalle_0)\n",
        "\n",
        "        if change:\n",
        "            return self.merge(new_intervals)\n",
        "        else:\n",
        "            return new_intervals"
      ],
      "metadata": {
        "id": "SX5B_66cN4Bk"
      },
      "execution_count": null,
      "outputs": []
    }
  ]
}