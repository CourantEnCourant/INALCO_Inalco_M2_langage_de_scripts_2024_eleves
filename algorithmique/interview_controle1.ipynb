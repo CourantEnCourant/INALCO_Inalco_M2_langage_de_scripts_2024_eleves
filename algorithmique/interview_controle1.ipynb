{
  "nbformat": 4,
  "nbformat_minor": 0,
  "metadata": {
    "colab": {
      "provenance": [],
      "authorship_tag": "ABX9TyNQ9FpKdZ48G/ca7yblHwRj",
      "include_colab_link": true
    },
    "kernelspec": {
      "name": "python3",
      "display_name": "Python 3"
    },
    "language_info": {
      "name": "python"
    }
  },
  "cells": [
    {
      "cell_type": "markdown",
      "metadata": {
        "id": "view-in-github",
        "colab_type": "text"
      },
      "source": [
        "<a href=\"https://colab.research.google.com/github/Dinarque/INALCO_Inalco_M2_langage_de_scripts_2024_eleves/blob/main/algorithmique/interview_controle1.ipynb\" target=\"_parent\"><img src=\"https://colab.research.google.com/assets/colab-badge.svg\" alt=\"Open In Colab\"/></a>"
      ]
    },
    {
      "cell_type": "markdown",
      "source": [
        "# Interview contrôle 1 : plus long préfixe commun\n",
        "\n",
        "Ecrire une fonction pour trouver le plus long préfixe commun à une liste de mots. Si aucune lettre n'est commune retournée une string vide “”.\n",
        "\n",
        "\n",
        ".\n",
        "Example 1:\n",
        "\n",
        "\n",
        "Input: strs = [\"flower\",\"flow\",\"flight\"]\n",
        "\n",
        "Output: \"fl\"\n",
        "\n",
        "\n",
        "Example 2:\n",
        "\n",
        "\n",
        "Input: strs = [\"dog\",\"racecar\",\"car\"]\n",
        "\n",
        "Output: \"\""
      ],
      "metadata": {
        "id": "3VkSQ10KR4-6"
      }
    },
    {
      "cell_type": "code",
      "source": [
        "strs1 =  [\"flower\",\"flow\",\"flight\"]\n",
        "strs2 =  [\"dog\",\"racecar\",\"car\"]"
      ],
      "metadata": {
        "id": "97N5dEXZSl-P"
      },
      "execution_count": 1,
      "outputs": []
    },
    {
      "cell_type": "markdown",
      "source": [
        "# Solution 1 : boucler pour mieux régner"
      ],
      "metadata": {
        "id": "mmLIoHxzSIXm"
      }
    },
    {
      "cell_type": "code",
      "source": [
        "def longest_common_prefix(strs):\n",
        "\n",
        "  longest_prefix = \"\"\n",
        "\n",
        "  smallest_length = min([len(el) for el in strs])\n",
        "  for i in range(smallest_length) :\n",
        "    is_common = True\n",
        "    for wd in strs[1:] :\n",
        "      if wd[i] != strs[0][i] :\n",
        "        is_common = False\n",
        "        break\n",
        "    if is_common :\n",
        "      longest_prefix += strs[0][i]\n",
        "    else :\n",
        "      break\n",
        "\n",
        "  return longest_prefix\n",
        "\n",
        "print(strs1, longest_common_prefix(strs1))\n",
        "print(strs2, longest_common_prefix(strs2))"
      ],
      "metadata": {
        "colab": {
          "base_uri": "https://localhost:8080/"
        },
        "id": "v-5UGgJxSOpF",
        "outputId": "dd47a580-a6ef-4d16-fd44-58bac217dacb"
      },
      "execution_count": 2,
      "outputs": [
        {
          "output_type": "stream",
          "name": "stdout",
          "text": [
            "['flower', 'flow', 'flight'] fl\n",
            "['dog', 'racecar', 'car'] \n"
          ]
        }
      ]
    },
    {
      "cell_type": "markdown",
      "source": [
        "#2) méthode soustractive"
      ],
      "metadata": {
        "id": "-3XVw1XPTR-Z"
      }
    },
    {
      "cell_type": "code",
      "source": [
        "def longest_common_prefix_2_words(wd1, wd2):\n",
        "    i = 0\n",
        "    while i < min(len(wd1), len(wd2)) and wd1[i] == wd2[i]:\n",
        "        i += 1\n",
        "    return wd1[:i]\n",
        "\n",
        "print(longest_common_prefix_2_words(\"claudette\", \"clous\"))"
      ],
      "metadata": {
        "colab": {
          "base_uri": "https://localhost:8080/"
        },
        "id": "-HOPEWRRSCaB",
        "outputId": "c4389953-6cf4-4859-ec84-17b5297653e2"
      },
      "execution_count": 7,
      "outputs": [
        {
          "output_type": "stream",
          "name": "stdout",
          "text": [
            "cl\n"
          ]
        }
      ]
    },
    {
      "cell_type": "code",
      "source": [
        "def longest_common_prefix(strs) :\n",
        "  longest_prefix = strs[0]\n",
        "  for word in strs[1:] :\n",
        "    longest_prefix = longest_common_prefix_2_words(longest_prefix, word)\n",
        "\n",
        "  return longest_prefix\n",
        "\n",
        "print(strs1, longest_common_prefix(strs1))\n",
        "print(strs2, longest_common_prefix(strs2))"
      ],
      "metadata": {
        "colab": {
          "base_uri": "https://localhost:8080/"
        },
        "id": "7Y8Ih8TWT7KV",
        "outputId": "fcac5c06-8a91-46bc-d065-c822e5d72af8"
      },
      "execution_count": 8,
      "outputs": [
        {
          "output_type": "stream",
          "name": "stdout",
          "text": [
            "['flower', 'flow', 'flight'] fl\n",
            "['dog', 'racecar', 'car'] \n"
          ]
        }
      ]
    },
    {
      "cell_type": "markdown",
      "source": [
        "# 3) méthode rusée"
      ],
      "metadata": {
        "id": "UC62-57OUymi"
      }
    },
    {
      "cell_type": "code",
      "execution_count": 9,
      "metadata": {
        "colab": {
          "base_uri": "https://localhost:8080/"
        },
        "id": "Q2nzXzMjR4du",
        "outputId": "4e93858c-adcd-4a30-80cf-1ee53b2781ea"
      },
      "outputs": [
        {
          "output_type": "stream",
          "name": "stdout",
          "text": [
            "['flower', 'flow', 'flight'] fl\n",
            "['dog', 'racecar', 'car'] \n"
          ]
        }
      ],
      "source": [
        "def longest_common_prefix(strs) :\n",
        "  if len(strs) == 1 : return strs[0]\n",
        "  sorted_strs = sorted(strs)\n",
        "  return longest_common_prefix_2_words(sorted_strs[0], sorted_strs[1])\n",
        "\n",
        "print(strs1, longest_common_prefix(strs1))\n",
        "print(strs2, longest_common_prefix(strs2))"
      ]
    }
  ]
}