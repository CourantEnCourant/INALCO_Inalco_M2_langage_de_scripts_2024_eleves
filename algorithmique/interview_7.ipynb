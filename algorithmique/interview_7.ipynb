{
  "nbformat": 4,
  "nbformat_minor": 0,
  "metadata": {
    "colab": {
      "provenance": [],
      "authorship_tag": "ABX9TyNobC+W1O97enqUTvDrJq6a",
      "include_colab_link": true
    },
    "kernelspec": {
      "name": "python3",
      "display_name": "Python 3"
    },
    "language_info": {
      "name": "python"
    }
  },
  "cells": [
    {
      "cell_type": "markdown",
      "metadata": {
        "id": "view-in-github",
        "colab_type": "text"
      },
      "source": [
        "<a href=\"https://colab.research.google.com/github/Dinarque/INALCO_Inalco_M2_langage_de_scripts_2024_eleves/blob/main/algorithmique/interview_7.ipynb\" target=\"_parent\"><img src=\"https://colab.research.google.com/assets/colab-badge.svg\" alt=\"Open In Colab\"/></a>"
      ]
    },
    {
      "cell_type": "markdown",
      "source": [
        "# Interview 7 : Candies"
      ],
      "metadata": {
        "id": "vpTlOhvUscV_"
      }
    },
    {
      "cell_type": "markdown",
      "source": [
        "You have a group of  n children standing in a line, each with a rating represented by an integer array ratings. Your task is to distribute candies to the children following these rules:\n",
        "\n",
        "Every child must receive at least one candy.\n",
        "Children with higher ratings than their neighbors must receive more candies than those neighbors.\n",
        "Your goal is to determine the minimum number of candies required to distribute them according to these rules.\n",
        "\n",
        "\n",
        "Example 1:\n",
        "Input:\n",
        "ratings = [1, 0, 2]\n",
        "Output:\n",
        "5\n",
        "Explanation:\n",
        "\n",
        "Child 1 (rating 1): 2 candies\n",
        "Child 2 (rating 0): 1 candy\n",
        "Child 3 (rating 2): 2 candies\n",
        "Total = 2 + 1 + 2 = 5 candies.\n",
        "\n",
        "Example 2:\n",
        "Input:\n",
        "ratings = [1, 2, 2]\n",
        "Output:\n",
        "4\n",
        "Explanation:\n",
        "\n",
        "Child 1 (rating 1): 1 candy\n",
        "Child 2 (rating 2): 2 candies\n",
        "Child 3 (rating 2): 2 candies\n",
        "Total = 1 + 2 + 2 = 5 candies.\n",
        "Example 3:\n",
        "Input:\n",
        "ratings = [1, 3, 2, 2, 1]\n",
        "Output:\n",
        "9\n",
        "Explanation:\n",
        "\n",
        "Child 1 (rating 1): 1 candy\n",
        "Child 2 (rating 3): 3 candies\n",
        "Child 3 (rating 2): 2 candies\n",
        "Child 4 (rating 2): 2 candies\n",
        "Child 5 (rating 1): 1 candy\n",
        "Total = 1 + 3 + 2 + 2 + 1 = 9 candies.\n"
      ],
      "metadata": {
        "id": "hEkzK9SMtBxJ"
      }
    },
    {
      "cell_type": "markdown",
      "source": [
        "# Solution 1 :  il faut bien commencer quelque part"
      ],
      "metadata": {
        "id": "LVQqXAkVtZCD"
      }
    },
    {
      "cell_type": "markdown",
      "source": [],
      "metadata": {
        "id": "5Z1l4fJ2tXKC"
      }
    },
    {
      "cell_type": "code",
      "execution_count": null,
      "metadata": {
        "id": "cg_XwMw3sbuW"
      },
      "outputs": [],
      "source": [
        "def candy( ratings):\n",
        "\n",
        "\n",
        "        attributed_candies = [0]+[1]* len(ratings)+[0]\n",
        "        ratings = [0] + ratings + [0]\n",
        "\n",
        "        while True:\n",
        "            changed = False\n",
        "            for i in range(1, len(ratings) - 1):\n",
        "\n",
        "                if ratings[i] > ratings[i - 1] and attributed_candies[i -1]>= attributed_candies[i] :\n",
        "                    attributed_candies[i] +=  1\n",
        "                    changed = True\n",
        "\n",
        "                if ratings[i] > ratings[i + 1] and attributed_candies[i +1]>= attributed_candies[i] :\n",
        "                    attributed_candies[i] +=  1\n",
        "                    changed = True\n",
        "\n",
        "\n",
        "            print(attributed_candies)\n",
        "            if not changed:\n",
        "                break\n",
        "\n",
        "\n",
        "        return sum(attributed_candies)"
      ]
    },
    {
      "cell_type": "markdown",
      "source": [
        "# Solution 2 : minimisons le nombre de boucles en rusant"
      ],
      "metadata": {
        "id": "31O2FrfEwtTb"
      }
    },
    {
      "cell_type": "code",
      "source": [
        "def candy( ratings):\n",
        "\n",
        "        n = len(ratings)\n",
        "        attributed_candies = [1] * n\n",
        "\n",
        "        # Forward pass:\n",
        "        for i in range(1, n):\n",
        "            if ratings[i] > ratings[i - 1]:\n",
        "                attributed_candies[i] = attributed_candies[i - 1] + 1\n",
        "\n",
        "        # Backward pass:\n",
        "        for i in range(n - 2, -1, -1):\n",
        "            if ratings[i] > ratings[i + 1]:\n",
        "                attributed_candies[i] = max(attributed_candies[i], attributed_candies[i + 1] + 1)\n",
        "\n",
        "\n",
        "        return sum(attributed_candies)"
      ],
      "metadata": {
        "id": "V7qdvLL-wwMW"
      },
      "execution_count": null,
      "outputs": []
    }
  ]
}