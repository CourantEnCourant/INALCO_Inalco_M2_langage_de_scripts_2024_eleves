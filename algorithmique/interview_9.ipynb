{
  "nbformat": 4,
  "nbformat_minor": 0,
  "metadata": {
    "colab": {
      "provenance": [],
      "authorship_tag": "ABX9TyNJ7CEtZAEuK8YZKXanAWFB",
      "include_colab_link": true
    },
    "kernelspec": {
      "name": "python3",
      "display_name": "Python 3"
    },
    "language_info": {
      "name": "python"
    }
  },
  "cells": [
    {
      "cell_type": "markdown",
      "metadata": {
        "id": "view-in-github",
        "colab_type": "text"
      },
      "source": [
        "<a href=\"https://colab.research.google.com/github/Dinarque/INALCO_Inalco_M2_langage_de_scripts_2024_eleves/blob/main/algorithmique/interview_9.ipynb\" target=\"_parent\"><img src=\"https://colab.research.google.com/assets/colab-badge.svg\" alt=\"Open In Colab\"/></a>"
      ]
    },
    {
      "cell_type": "markdown",
      "source": [
        "# Jumanji par liste"
      ],
      "metadata": {
        "id": "Nbi5LpyaKdg4"
      }
    },
    {
      "cell_type": "markdown",
      "source": [
        "On vous donne un tableau d'entiers nums. Vous êtes initialement positionné au premier indice du tableau, et chaque élément du tableau représente la longueur maximale de saut que vous pouvez effectuer à partir de cette position.\n",
        "\n",
        "Retournez True si vous pouvez atteindre le dernier indice, ou False sinon.\n",
        "\n",
        "Exemple 1 :\n",
        "Entrée : nums = [2,4,2,1,5]\n",
        "Sortie : True\n",
        "Explication : Sautez 1 pas de l'indice 0 à l'indice 1, puis 4 pas jusqu'au dernier indice.\n",
        "\n",
        "Exemple 2 :\n",
        "Entrée : nums = [3,2,1,0,5]\n",
        "Sortie : False\n",
        "Explication : Vous arriverez toujours à l'indice 3, peu importe ce que vous faites. Sa longueur maximale de saut est 0, ce qui rend impossible d'atteindre le dernier indice."
      ],
      "metadata": {
        "id": "CU7qhDXGKhDw"
      }
    },
    {
      "cell_type": "code",
      "source": [
        "ex1 = [2,4,2,1,5]\n",
        "ex2 = [3,2,1,0,5]"
      ],
      "metadata": {
        "id": "Z2yuvqawKoBD"
      },
      "execution_count": 2,
      "outputs": []
    },
    {
      "cell_type": "markdown",
      "source": [
        "# 1) méthode récursive"
      ],
      "metadata": {
        "id": "ZoCk5IkvLH3m"
      }
    },
    {
      "cell_type": "code",
      "execution_count": null,
      "metadata": {
        "id": "ea9DszImLtsM",
        "colab": {
          "base_uri": "https://localhost:8080/"
        },
        "outputId": "1c4dd0f4-5260-44c1-f41c-a0eb99ce422d"
      },
      "outputs": [
        {
          "output_type": "stream",
          "name": "stdout",
          "text": [
            "True\n",
            "False\n"
          ]
        }
      ],
      "source": [
        "def canJump( nums):\n",
        "\n",
        "        if not len(nums):\n",
        "            return True\n",
        "\n",
        "        # On vérifie si on est bloqué dans une case à 0 sans pouvoir continuer\n",
        "        possible_jumps = nums[0]\n",
        "        if possible_jumps == 0 and len(nums) > 1:\n",
        "            return False\n",
        "\n",
        "        # Si on est arrivé à une case où on peut encore sauter on vérifie si on peut sauter jusqu'au bout\n",
        "        for jump in range(1, possible_jumps + 1):\n",
        "            if canJump(nums[jump:]):\n",
        "                return True\n",
        "\n",
        "        # On s'arrête si on a atteint la dernière case\n",
        "        return len(nums) == 1\n",
        "\n",
        "print(canJump(ex1))\n",
        "print(canJump(ex2))"
      ]
    },
    {
      "cell_type": "markdown",
      "source": [
        "Mais c'est bien trop lent  !"
      ],
      "metadata": {
        "id": "qTPXXWiJLtvs"
      }
    },
    {
      "cell_type": "markdown",
      "source": [
        "# 2) récursion avec cache"
      ],
      "metadata": {
        "id": "9UxnqfjEWbl9"
      }
    },
    {
      "cell_type": "code",
      "source": [
        "def canJump(nums):\n",
        "    cache = {}\n",
        "\n",
        "    def dfs(i):\n",
        "        if i in cache:  # Si le résultat pour cet index a déjà été calculé, on le retourne directement\n",
        "            return cache[i]\n",
        "\n",
        "        # Si on est arrivé à la fin du tableau, on peut toujours sauter\n",
        "        if i >= len(nums) - 1:\n",
        "            cache[i] = True\n",
        "            return True\n",
        "\n",
        "        # Nombre maximum de sauts depuis l'index i\n",
        "        max_jump = nums[i]\n",
        "\n",
        "        # Si on peut sauter jusqu'au bout à partir de cette case\n",
        "        for j in range(1, max_jump + 1):\n",
        "            if dfs(i + j):\n",
        "                cache[i] = True\n",
        "                return True\n",
        "\n",
        "        cache[i] = False  # On marque cet index comme inatteignable\n",
        "        return False\n",
        "\n",
        "    return dfs(0)\n",
        "\n",
        "print(canJump(ex1))\n",
        "print(canJump(ex2))"
      ],
      "metadata": {
        "colab": {
          "base_uri": "https://localhost:8080/"
        },
        "id": "UXcGBCR_We1A",
        "outputId": "f6986c97-1237-49eb-d8db-5773c5ed6733"
      },
      "execution_count": 3,
      "outputs": [
        {
          "output_type": "stream",
          "name": "stdout",
          "text": [
            "True\n",
            "False\n"
          ]
        }
      ]
    },
    {
      "cell_type": "markdown",
      "source": [
        "# 3) Sans récursion"
      ],
      "metadata": {
        "id": "2Mm-lvIRLs1b"
      }
    },
    {
      "cell_type": "code",
      "source": [
        "def canJump(self, nums):\n",
        "\n",
        "        max_reachable = 0\n",
        "        for i in range(len(nums)):\n",
        "\n",
        "            if i > max_reachable:\n",
        "                return False\n",
        "\n",
        "            max_reachable = max(max_reachable, i + nums[i])\n",
        "\n",
        "            if max_reachable >= len(nums) - 1:\n",
        "                return True\n",
        "        return False"
      ],
      "metadata": {
        "id": "tOaTtEJjMQhh"
      },
      "execution_count": null,
      "outputs": []
    }
  ]
}