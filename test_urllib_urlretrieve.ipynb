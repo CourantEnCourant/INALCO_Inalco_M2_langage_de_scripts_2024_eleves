{
 "cells": [
  {
   "cell_type": "code",
   "id": "initial_id",
   "metadata": {
    "collapsed": true,
    "ExecuteTime": {
     "end_time": "2024-09-23T12:42:07.490716Z",
     "start_time": "2024-09-23T12:42:07.280130Z"
    }
   },
   "source": [
    "from urllib.request import urlretrieve\n",
    "\n",
    "poem_url = \"https://fr.wikisource.org/wiki/%C3%89l%C3%A9gies,_Marie_et_romances/L%E2%80%99Arbrisseau\"\n",
    "local_path = \"poem.html\"\n",
    "\n",
    "download_path, http_response = urlretrieve(poem_url, local_path)"
   ],
   "outputs": [],
   "execution_count": 11
  },
  {
   "metadata": {
    "ExecuteTime": {
     "end_time": "2024-09-23T12:42:07.619334Z",
     "start_time": "2024-09-23T12:42:07.611935Z"
    }
   },
   "cell_type": "code",
   "source": "print(download_path)",
   "id": "c40de71b781b100f",
   "outputs": [
    {
     "name": "stdout",
     "output_type": "stream",
     "text": [
      "poem.html\n"
     ]
    }
   ],
   "execution_count": 12
  },
  {
   "metadata": {
    "ExecuteTime": {
     "end_time": "2024-09-23T12:23:25.342254Z",
     "start_time": "2024-09-23T12:23:25.077638Z"
    }
   },
   "cell_type": "code",
   "source": [
    "download_path, http_response = urlretrieve(poem_url)\n",
    "print(download_path)"
   ],
   "id": "c26d7f557b7c066b",
   "outputs": [
    {
     "name": "stdout",
     "output_type": "stream",
     "text": [
      "/var/folders/dp/k0g8_6s10gz6vft28r_gzkbc0000gn/T/tmp6e3qglre\n"
     ]
    }
   ],
   "execution_count": 6
  },
  {
   "metadata": {
    "ExecuteTime": {
     "end_time": "2024-09-23T12:39:57.928814Z",
     "start_time": "2024-09-23T12:39:57.901924Z"
    }
   },
   "cell_type": "code",
   "source": "print(type(download_path))",
   "id": "2c22a111e2dee846",
   "outputs": [
    {
     "name": "stdout",
     "output_type": "stream",
     "text": [
      "<class 'str'>\n"
     ]
    }
   ],
   "execution_count": 7
  },
  {
   "metadata": {},
   "cell_type": "code",
   "outputs": [],
   "execution_count": null,
   "source": "",
   "id": "65a4d57cb66c6d2a"
  }
 ],
 "metadata": {
  "kernelspec": {
   "display_name": "Python 3",
   "language": "python",
   "name": "python3"
  },
  "language_info": {
   "codemirror_mode": {
    "name": "ipython",
    "version": 2
   },
   "file_extension": ".py",
   "mimetype": "text/x-python",
   "name": "python",
   "nbconvert_exporter": "python",
   "pygments_lexer": "ipython2",
   "version": "2.7.6"
  }
 },
 "nbformat": 4,
 "nbformat_minor": 5
}
