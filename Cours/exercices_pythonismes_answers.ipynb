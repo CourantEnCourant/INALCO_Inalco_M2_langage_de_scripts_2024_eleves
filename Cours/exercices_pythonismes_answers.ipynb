{
 "nbformat": 4,
 "nbformat_minor": 0,
 "metadata": {
  "colab": {
   "provenance": [],
   "authorship_tag": "ABX9TyMPHA3bcnMibgSST4dyKn/i",
   "include_colab_link": true
  },
  "kernelspec": {
   "name": "langage_script",
   "display_name": "langage_script",
   "language": "python"
  },
  "language_info": {
   "name": "python"
  }
 },
 "cells": [
  {
   "cell_type": "markdown",
   "metadata": {
    "id": "view-in-github",
    "colab_type": "text"
   },
   "source": [
    "<a href=\"https://colab.research.google.com/github/Dinarque/INALCO_Inalco_M2_langage_de_scripts_2024_eleves/blob/main/cours/exercices_pythonismes.ipynb\" target=\"_parent\"><img src=\"https://colab.research.google.com/assets/colab-badge.svg\" alt=\"Open In Colab\"/></a>"
   ]
  },
  {
   "cell_type": "markdown",
   "source": [
    "# Python tricks : quelques exercices d'application"
   ],
   "metadata": {
    "id": "sP2QqqX_eNpN"
   }
  },
  {
   "cell_type": "markdown",
   "source": [
    "1) Créez une liste de 100 éléments qui contient les chiffres de 1 à 4 qui se répètenet en boucle"
   ],
   "metadata": {
    "id": "jaYme2freOhI"
   }
  },
  {
   "cell_type": "code",
   "metadata": {
    "id": "SimuWMrtVpKM",
    "ExecuteTime": {
     "end_time": "2024-09-24T15:45:28.626850Z",
     "start_time": "2024-09-24T15:45:28.619106Z"
    }
   },
   "source": [
    "list_100_elements = [1, 2, 3, 4] * 25\n",
    "print(list_100_elements)"
   ],
   "outputs": [
    {
     "name": "stdout",
     "output_type": "stream",
     "text": [
      "[1, 2, 3, 4, 1, 2, 3, 4, 1, 2, 3, 4, 1, 2, 3, 4, 1, 2, 3, 4, 1, 2, 3, 4, 1, 2, 3, 4, 1, 2, 3, 4, 1, 2, 3, 4, 1, 2, 3, 4, 1, 2, 3, 4, 1, 2, 3, 4, 1, 2, 3, 4, 1, 2, 3, 4, 1, 2, 3, 4, 1, 2, 3, 4, 1, 2, 3, 4, 1, 2, 3, 4, 1, 2, 3, 4, 1, 2, 3, 4, 1, 2, 3, 4, 1, 2, 3, 4, 1, 2, 3, 4, 1, 2, 3, 4, 1, 2, 3, 4]\n"
     ]
    }
   ],
   "execution_count": 3
  },
  {
   "cell_type": "markdown",
   "source": [
    "2) En une ligne de code, retournez la liste des nombres pairs présents dans la liste suivante"
   ],
   "metadata": {
    "id": "YCXaHOf_bmae"
   }
  },
  {
   "cell_type": "code",
   "source": [
    "liste = [1,25,4,6,8,95,32,65,45,54,1,7,2,0]\n",
    "even_nums_list = [num for num in liste if not num % 2]\n",
    "print(even_nums_list)"
   ],
   "metadata": {
    "id": "KR4zx0C6VsLb",
    "ExecuteTime": {
     "end_time": "2024-09-24T15:47:08.959374Z",
     "start_time": "2024-09-24T15:47:08.950294Z"
    }
   },
   "outputs": [
    {
     "name": "stdout",
     "output_type": "stream",
     "text": [
      "[4, 6, 8, 32, 54, 2, 0]\n"
     ]
    }
   ],
   "execution_count": 4
  },
  {
   "cell_type": "markdown",
   "source": [
    "3) En utilisant une fonction lambda, transformez la liste suivante en mots en majuscules"
   ],
   "metadata": {
    "id": "4uG2dphMydRn"
   }
  },
  {
   "cell_type": "code",
   "source": [
    "liste = [\"chacal\",\"renard\",\"caribou\",\"chat\",\"boucanal\"]\n",
    "words_upper_case1 = [word.upper() for word in liste]\n",
    "words_upper_case2 = list(map(lambda x: x.upper(), liste))\n",
    "print(words_upper_case1)\n",
    "print(words_upper_case2)"
   ],
   "metadata": {
    "id": "rB6DPlSxycl-",
    "ExecuteTime": {
     "end_time": "2024-09-24T15:53:00.937316Z",
     "start_time": "2024-09-24T15:53:00.922471Z"
    }
   },
   "outputs": [
    {
     "name": "stdout",
     "output_type": "stream",
     "text": [
      "['CHACAL', 'RENARD', 'CARIBOU', 'CHAT', 'BOUCANAL']\n",
      "['CHACAL', 'RENARD', 'CARIBOU', 'CHAT', 'BOUCANAL']\n"
     ]
    }
   ],
   "execution_count": 6
  },
  {
   "cell_type": "markdown",
   "source": [
    "4) Ecrire ***en une ligne de code *** un dictionnaire qui attribue à un mot dans une liste son index dans une liste de mots"
   ],
   "metadata": {
    "id": "vNaaNkJDVsgr"
   }
  },
  {
   "cell_type": "code",
   "source": [
    "liste = [\"chacal\",\"renard\",\"caribou\",\"chat\",\"boucanal\"]\n",
    "word2index = {word: index for index, word in enumerate(liste)}\n",
    "print(word2index)"
   ],
   "metadata": {
    "id": "L4c-P5VvV7Q1",
    "ExecuteTime": {
     "end_time": "2024-09-24T15:58:47.368581Z",
     "start_time": "2024-09-24T15:58:47.359737Z"
    }
   },
   "outputs": [
    {
     "name": "stdout",
     "output_type": "stream",
     "text": [
      "{'chacal': 0, 'renard': 1, 'caribou': 2, 'chat': 3, 'boucanal': 4}\n"
     ]
    }
   ],
   "execution_count": 7
  },
  {
   "cell_type": "markdown",
   "source": [
    "5) En **Une seule ligne de code** combinez deux listes de taille égale en un dicitonnaire"
   ],
   "metadata": {
    "id": "VkcF7fmhapsJ"
   }
  },
  {
   "cell_type": "code",
   "source": [
    "liste_cles = ['a', 'b', 'c']\n",
    "liste_valeurs = [1, 2, 3]\n",
    "{key: value for key, value in zip(liste_cles, liste_valeurs)}"
   ],
   "metadata": {
    "id": "-dc-oog0axkz",
    "ExecuteTime": {
     "end_time": "2024-09-24T16:01:48.101366Z",
     "start_time": "2024-09-24T16:01:48.090150Z"
    }
   },
   "outputs": [
    {
     "data": {
      "text/plain": [
       "{'a': 1, 'b': 2, 'c': 3}"
      ]
     },
     "execution_count": 9,
     "metadata": {},
     "output_type": "execute_result"
    }
   ],
   "execution_count": 9
  },
  {
   "cell_type": "markdown",
   "source": [
    "6) sélectionnez d'un coup le premier et le dernier animal du tuple sans utiliser de slicing / de crochet"
   ],
   "metadata": {
    "id": "u5_sFJlQyw3D"
   }
  },
  {
   "cell_type": "code",
   "source": [
    "tupl = (\"chacal\",\"renard\",\"caribou\",\"chat\",\"boucanal\")\n",
    "first_animal, *other_animals, last_animal = tupl\n",
    "print(first_animal, last_animal)"
   ],
   "metadata": {
    "id": "H2--4WwWzPPr",
    "ExecuteTime": {
     "end_time": "2024-09-24T20:04:12.863835Z",
     "start_time": "2024-09-24T20:04:12.839163Z"
    }
   },
   "outputs": [
    {
     "name": "stdout",
     "output_type": "stream",
     "text": [
      "chacal boucanal\n"
     ]
    }
   ],
   "execution_count": 1
  },
  {
   "cell_type": "markdown",
   "source": [
    "7) écrire un programme qui renvoie la liste des indices des éléments pairs et la liste des éléments impairs d'une liste"
   ],
   "metadata": {
    "id": "sGsURVa0zj_b"
   }
  },
  {
   "cell_type": "code",
   "source": [
    "liste = [1,25,4,6,8,95,32,65,45,54,1,7,2,0]\n",
    "list_odd = [i for i, number in enumerate(liste) if number % 2 != 0]\n",
    "list_even = [i for i, number in enumerate(liste) if number % 2 == 0]\n",
    "\n",
    "print(list_odd, list_even)"
   ],
   "metadata": {
    "id": "hRXXuaORyxAh",
    "ExecuteTime": {
     "end_time": "2024-09-24T20:12:41.643712Z",
     "start_time": "2024-09-24T20:12:41.632266Z"
    }
   },
   "outputs": [
    {
     "name": "stdout",
     "output_type": "stream",
     "text": [
      "[0, 1, 5, 7, 8, 10, 11] [2, 3, 4, 6, 9, 12, 13]\n"
     ]
    }
   ],
   "execution_count": 4
  },
  {
   "cell_type": "markdown",
   "source": [
    "8) écris une fonction qui prend en entrée un dictionnaire associant un caractère à son nombre d'occurrence et renvoie une guirlande de ces caractères séparés par \"_\".\n",
    "Indice : il faut utiliser DEUX pythonismes."
   ],
   "metadata": {
    "id": "F9puoDNe1eQj"
   }
  },
  {
   "cell_type": "code",
   "source": [
    "dic = {\"!\": 8, \"*\": 5, \"?\":2}\n",
    "\n",
    "guirlande = \"\".join(f\"{key}_\" * value for key, value in dic.items())[:-1]\n",
    "print(guirlande)"
   ],
   "metadata": {
    "id": "uyOHl3H32FU3",
    "ExecuteTime": {
     "end_time": "2024-09-24T20:21:12.220226Z",
     "start_time": "2024-09-24T20:21:12.211304Z"
    }
   },
   "outputs": [
    {
     "name": "stdout",
     "output_type": "stream",
     "text": [
      "!_!_!_!_!_!_!_!_*_*_*_*_*_?_?\n"
     ]
    }
   ],
   "execution_count": 7
  },
  {
   "cell_type": "markdown",
   "source": [
    "9)  filtrer le dictionnaire de sorte à ne garder que les paires où la longueur de la clé est strictement supérieure à la valeur associée"
   ],
   "metadata": {
    "id": "Alt6_e9t23Qc"
   }
  },
  {
   "cell_type": "code",
   "source": [
    "dictionnaire = {\n",
    "    \"éléphant\": 3,\n",
    "    \"chat\": 5,\n",
    "    \"crocodile\": 7,\n",
    "    \"chien\": 4,\n",
    "    \"girafe\": 6\n",
    "}\n",
    "\n",
    "filtered_dict = dict(filter(lambda x: len(x[0]) > x[1], dictionnaire.items()))\n",
    "print(filtered_dict)"
   ],
   "metadata": {
    "id": "7iUF0E7T241r",
    "ExecuteTime": {
     "end_time": "2024-09-24T20:31:52.339523Z",
     "start_time": "2024-09-24T20:31:52.314463Z"
    }
   },
   "outputs": [
    {
     "name": "stdout",
     "output_type": "stream",
     "text": [
      "{'éléphant': 3, 'crocodile': 7, 'chien': 4}\n"
     ]
    }
   ],
   "execution_count": 15
  },
  {
   "cell_type": "markdown",
   "source": [
    "10) La liste de tuples contient le prix au kilo de certains fruits.\n",
    "Trier cette liste selon le prix par ordre croissant"
   ],
   "metadata": {
    "id": "1BTWX3VB3SR9"
   }
  },
  {
   "cell_type": "code",
   "source": [
    "liste_tuples = [(\"pomme\", 10), (\"banane\", 5), (\"cerise\", 12), (\"datte\", 7)]\n",
    "\n",
    "sorted(liste_tuples, key=lambda x: x[1], reverse=True)"
   ],
   "metadata": {
    "id": "qphnY0ET1eYx",
    "ExecuteTime": {
     "end_time": "2024-10-01T14:16:39.933574Z",
     "start_time": "2024-10-01T14:16:39.915303Z"
    }
   },
   "outputs": [
    {
     "data": {
      "text/plain": [
       "[('cerise', 12), ('pomme', 10), ('datte', 7), ('banane', 5)]"
      ]
     },
     "execution_count": 3,
     "metadata": {},
     "output_type": "execute_result"
    }
   ],
   "execution_count": 3
  },
  {
   "metadata": {},
   "cell_type": "code",
   "outputs": [],
   "execution_count": null,
   "source": ""
  }
 ]
}
