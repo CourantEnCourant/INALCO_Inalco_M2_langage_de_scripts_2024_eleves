{
  "nbformat": 4,
  "nbformat_minor": 0,
  "metadata": {
    "colab": {
      "provenance": [],
      "authorship_tag": "ABX9TyN9dRISIChKR2kcS+lwo3Gc",
      "include_colab_link": true
    },
    "kernelspec": {
      "name": "python3",
      "display_name": "Python 3"
    },
    "language_info": {
      "name": "python"
    }
  },
  "cells": [
    {
      "cell_type": "markdown",
      "metadata": {
        "id": "view-in-github",
        "colab_type": "text"
      },
      "source": [
        "<a href=\"https://colab.research.google.com/github/Dinarque/INALCO_Inalco_M2_langage_de_scripts_2024_eleves/blob/main/Cours/exercices_programmation_fonctionelle_correction.ipynb\" target=\"_parent\"><img src=\"https://colab.research.google.com/assets/colab-badge.svg\" alt=\"Open In Colab\"/></a>"
      ]
    },
    {
      "cell_type": "markdown",
      "source": [
        "# Réécrivez ces morceaux de code de façon efficace en utilisant la philosophie de la programmation fonctionelle"
      ],
      "metadata": {
        "id": "ID-yc_a46bne"
      }
    },
    {
      "cell_type": "markdown",
      "source": [
        "Exemples souvent tirés de realpython.com"
      ],
      "metadata": {
        "id": "gDlf--FW7WtN"
      }
    },
    {
      "cell_type": "code",
      "execution_count": null,
      "metadata": {
        "id": "HqLR6B6N6RYh"
      },
      "outputs": [],
      "source": [
        "# 1)\n",
        "\n",
        "number_strings = []\n",
        "for number in [1, 2, 3, 4, 5]:\n",
        "    number_strings.append(str(number))\n",
        "\n",
        "\"+\".join(number_strings)"
      ]
    },
    {
      "cell_type": "code",
      "source": [
        "\"+\".join(map(str, [1, 2, 3, 4, 5]))"
      ],
      "metadata": {
        "id": "PlmjYICG7dDT",
        "colab": {
          "base_uri": "https://localhost:8080/",
          "height": 36
        },
        "outputId": "bd1b99c3-a753-4c12-b7c5-74b7c7643a3f"
      },
      "execution_count": 10,
      "outputs": [
        {
          "output_type": "execute_result",
          "data": {
            "text/plain": [
              "'1+2+3+4+5'"
            ],
            "application/vnd.google.colaboratory.intrinsic+json": {
              "type": "string"
            }
          },
          "metadata": {},
          "execution_count": 10
        }
      ]
    },
    {
      "cell_type": "code",
      "source": [
        "# 2)\n",
        "\n",
        "def greater_than_100(x):\n",
        "    return x > 100\n",
        "\n",
        "list(filter(greater_than_100, [1, 111, 2, 222, 3, 333]))\n",
        "\n"
      ],
      "metadata": {
        "colab": {
          "base_uri": "https://localhost:8080/"
        },
        "id": "vt22f5UU6mX7",
        "outputId": "99fb4f99-2205-4452-d462-fb014fa56c89"
      },
      "execution_count": null,
      "outputs": [
        {
          "output_type": "execute_result",
          "data": {
            "text/plain": [
              "[111, 222, 333]"
            ]
          },
          "metadata": {},
          "execution_count": 1
        }
      ]
    },
    {
      "cell_type": "code",
      "source": [
        "[x for x in filter(lambda x : x>100, [1, 111, 2, 222, 3, 333])]"
      ],
      "metadata": {
        "colab": {
          "base_uri": "https://localhost:8080/"
        },
        "id": "Q5vq0pPhYu6P",
        "outputId": "a47173d4-ae2d-4a01-936c-f891a6b93a56"
      },
      "execution_count": 2,
      "outputs": [
        {
          "output_type": "execute_result",
          "data": {
            "text/plain": [
              "[111, 222, 333]"
            ]
          },
          "metadata": {},
          "execution_count": 2
        }
      ]
    },
    {
      "cell_type": "code",
      "source": [
        "#3 réécrivez le calcul de la fonction factorielle à l'aide de reduce()\n",
        "\n",
        "def factorial(n):\n",
        "     return_value = 1\n",
        "     for i in range(2, n + 1):\n",
        "         return_value *= i\n",
        "     return return_value"
      ],
      "metadata": {
        "id": "W2-TDYyo7dn8"
      },
      "execution_count": null,
      "outputs": []
    },
    {
      "cell_type": "code",
      "source": [
        "from functools import reduce\n",
        "\n",
        "def factorial(n):\n",
        "    if n == 0:\n",
        "        return 1\n",
        "    return reduce(lambda x, y: x * y, range(1, n + 1))"
      ],
      "metadata": {
        "id": "mPf6QKmQE91g"
      },
      "execution_count": null,
      "outputs": []
    },
    {
      "cell_type": "code",
      "source": [
        "#  4) réécrivez la fonction is_palindrome de façon récursive\n",
        "\n",
        "def is_palindrome(word):\n",
        "    \"\"\"Return True if word is a palindrome, False if not.\"\"\"\n",
        "    return word == word[::-1]\n"
      ],
      "metadata": {
        "id": "qzXdhuApE-Kc"
      },
      "execution_count": 12,
      "outputs": []
    },
    {
      "cell_type": "code",
      "source": [
        "def is_palindrome(word):\n",
        "    \"\"\"Return True if word is a palindrome, False if not.\"\"\"\n",
        "    if len(word) <= 1:  # Un mot de longueur 0 ou 1 est un palindrome\n",
        "        return True\n",
        "    if word[0] != word[-1]:  # Si les extrémités ne sont pas égales, ce n'est pas un palindrome\n",
        "        return False\n",
        "    # Appel récursif sur le mot sans ses extrémités\n",
        "    return is_palindrome(word[1:-1])"
      ],
      "metadata": {
        "id": "mBcYmwUMHPl_"
      },
      "execution_count": 11,
      "outputs": []
    },
    {
      "cell_type": "code",
      "source": [
        "# 5) réécrivez la fonction qui calcule la suite de Fibonacci de manière à minimiser le nombre d'appels (n max ! )\n",
        "\n",
        "def fibonacci_recursive(n):\n",
        "    print(\"Calculating F\", \"(\", n, \")\", sep=\"\", end=\",\\n\")\n",
        "\n",
        "    # Base case\n",
        "    if n == 0:\n",
        "        return 0\n",
        "    elif n == 1:\n",
        "        return 1\n",
        "\n",
        "    # Recursive case\n",
        "    else:\n",
        "        return fibonacci_recursive(n-1) + fibonacci_recursive(n-2)\n",
        "\n",
        "fibonacci_recursive(6)"
      ],
      "metadata": {
        "colab": {
          "base_uri": "https://localhost:8080/"
        },
        "id": "ANOxB8-JHPue",
        "outputId": "a06e26bf-f40f-4f2a-fa41-c47f3d3d0b2a"
      },
      "execution_count": null,
      "outputs": [
        {
          "output_type": "stream",
          "name": "stdout",
          "text": [
            "Calculating F(6),\n",
            "Calculating F(5),\n",
            "Calculating F(4),\n",
            "Calculating F(3),\n",
            "Calculating F(2),\n",
            "Calculating F(1),\n",
            "Calculating F(0),\n",
            "Calculating F(1),\n",
            "Calculating F(2),\n",
            "Calculating F(1),\n",
            "Calculating F(0),\n",
            "Calculating F(3),\n",
            "Calculating F(2),\n",
            "Calculating F(1),\n",
            "Calculating F(0),\n",
            "Calculating F(1),\n",
            "Calculating F(4),\n",
            "Calculating F(3),\n",
            "Calculating F(2),\n",
            "Calculating F(1),\n",
            "Calculating F(0),\n",
            "Calculating F(1),\n",
            "Calculating F(2),\n",
            "Calculating F(1),\n",
            "Calculating F(0),\n"
          ]
        },
        {
          "output_type": "execute_result",
          "data": {
            "text/plain": [
              "8"
            ]
          },
          "metadata": {},
          "execution_count": 5
        }
      ]
    },
    {
      "cell_type": "code",
      "source": [
        "def fibonacci_memoized(n, memo={}):\n",
        "\n",
        "\n",
        "    # Vérification si déjà calculé\n",
        "    if n in memo:\n",
        "        return memo[n]\n",
        "    print(f\"Initialize calculation of F({n})\", end=\",\\n\")\n",
        "\n",
        "    # Cas de base\n",
        "    if n == 0:\n",
        "        memo[n] = 0\n",
        "    elif n == 1:\n",
        "        memo[n] = 1\n",
        "    else:\n",
        "        # Calcul avec mémorisation\n",
        "\n",
        "        memo[n] = fibonacci_memoized(n - 1, memo) + fibonacci_memoized(n - 2, memo)\n",
        "        print(f\"memorization F({n})\", end=\",\\n\")\n",
        "\n",
        "    return memo[n]\n",
        "\n",
        "\n",
        "fibonacci_memoized(6)"
      ],
      "metadata": {
        "id": "woQXbZiZHP2W",
        "colab": {
          "base_uri": "https://localhost:8080/"
        },
        "outputId": "1102963b-162f-45ea-991e-33c862a5d4d7"
      },
      "execution_count": 9,
      "outputs": [
        {
          "output_type": "stream",
          "name": "stdout",
          "text": [
            "Initialize calculation of F(6),\n",
            "Initialize calculation of F(5),\n",
            "Initialize calculation of F(4),\n",
            "Initialize calculation of F(3),\n",
            "Initialize calculation of F(2),\n",
            "Initialize calculation of F(1),\n",
            "Initialize calculation of F(0),\n",
            "memorization F(2),\n",
            "memorization F(3),\n",
            "memorization F(4),\n",
            "memorization F(5),\n",
            "memorization F(6),\n"
          ]
        },
        {
          "output_type": "execute_result",
          "data": {
            "text/plain": [
              "8"
            ]
          },
          "metadata": {},
          "execution_count": 9
        }
      ]
    }
  ]
}