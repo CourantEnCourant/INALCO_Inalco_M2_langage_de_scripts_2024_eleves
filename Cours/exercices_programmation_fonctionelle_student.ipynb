{
 "nbformat": 4,
 "nbformat_minor": 0,
 "metadata": {
  "colab": {
   "provenance": [],
   "authorship_tag": "ABX9TyOTQpFt7yt5UOQZp9MxO4JR",
   "include_colab_link": true
  },
  "kernelspec": {
   "name": "python3",
   "display_name": "Python 3 (ipykernel)",
   "language": "python"
  },
  "language_info": {
   "name": "python"
  }
 },
 "cells": [
  {
   "cell_type": "markdown",
   "metadata": {
    "id": "view-in-github",
    "colab_type": "text"
   },
   "source": [
    "<a href=\"https://colab.research.google.com/github/Dinarque/INALCO_Inalco_M2_langage_de_scripts_2024_eleves/blob/main/Cours/exercices_programmation_fonctionelle.ipynb\" target=\"_parent\"><img src=\"https://colab.research.google.com/assets/colab-badge.svg\" alt=\"Open In Colab\"/></a>"
   ]
  },
  {
   "cell_type": "markdown",
   "source": [
    "# Réécrivez ces morceaux de code de façon efficace en utilisant la philosophie de la programmation fonctionelle"
   ],
   "metadata": {
    "id": "ID-yc_a46bne"
   }
  },
  {
   "cell_type": "markdown",
   "source": [
    "Exemples souvent tirés de realpython.com"
   ],
   "metadata": {
    "id": "gDlf--FW7WtN"
   }
  },
  {
   "cell_type": "code",
   "metadata": {
    "id": "HqLR6B6N6RYh",
    "ExecuteTime": {
     "end_time": "2024-11-19T22:51:57.410588Z",
     "start_time": "2024-11-19T22:51:57.379487Z"
    }
   },
   "source": [
    "# 1)\n",
    "\n",
    "number_strings = []\n",
    "for number in [1, 2, 3, 4, 5]:\n",
    "    number_strings.append(str(number))\n",
    "\n",
    "\"+\".join(number_strings)"
   ],
   "outputs": [
    {
     "data": {
      "text/plain": [
       "'1+2+3+4+5'"
      ]
     },
     "execution_count": 1,
     "metadata": {},
     "output_type": "execute_result"
    }
   ],
   "execution_count": 1
  },
  {
   "cell_type": "code",
   "source": [
    "from functools import reduce\n",
    "\n",
    "reduce(lambda x, y: f\"{x}+{y}\", range(1, 6))"
   ],
   "metadata": {
    "id": "PlmjYICG7dDT",
    "ExecuteTime": {
     "end_time": "2024-11-19T22:57:30.032412Z",
     "start_time": "2024-11-19T22:57:30.018319Z"
    }
   },
   "outputs": [
    {
     "data": {
      "text/plain": [
       "'1+2+3+4+5'"
      ]
     },
     "execution_count": 4,
     "metadata": {},
     "output_type": "execute_result"
    }
   ],
   "execution_count": 4
  },
  {
   "cell_type": "code",
   "source": [
    "# 2)\n",
    "\n",
    "def greater_than_100(x):\n",
    "    return x > 100\n",
    "\n",
    "list(filter(greater_than_100, [1, 111, 2, 222, 3, 333]))"
   ],
   "metadata": {
    "colab": {
     "base_uri": "https://localhost:8080/"
    },
    "id": "vt22f5UU6mX7",
    "outputId": "99fb4f99-2205-4452-d462-fb014fa56c89"
   },
   "execution_count": 1,
   "outputs": [
    {
     "output_type": "execute_result",
     "data": {
      "text/plain": [
       "[111, 222, 333]"
      ]
     },
     "metadata": {},
     "execution_count": 1
    }
   ]
  },
  {
   "metadata": {
    "ExecuteTime": {
     "end_time": "2024-11-19T23:00:00.041581Z",
     "start_time": "2024-11-19T22:59:59.987808Z"
    }
   },
   "cell_type": "code",
   "source": [
    "nums2compare = [1, 111, 2, 222, 3, 333]\n",
    "list(filter(lambda x: x > 100, nums2compare))"
   ],
   "outputs": [
    {
     "data": {
      "text/plain": [
       "[111, 222, 333]"
      ]
     },
     "execution_count": 5,
     "metadata": {},
     "output_type": "execute_result"
    }
   ],
   "execution_count": 5
  },
  {
   "cell_type": "code",
   "source": [
    "#3 réécrivez le calcul de la fonction factorielle à l'aide de reduce()\n",
    "\n",
    "def factorial(n):\n",
    "     return_value = 1\n",
    "     for i in range(2, n + 1):\n",
    "         return_value *= i\n",
    "     return return_value"
   ],
   "metadata": {
    "id": "W2-TDYyo7dn8",
    "ExecuteTime": {
     "end_time": "2024-11-19T23:00:03.281667Z",
     "start_time": "2024-11-19T23:00:03.265331Z"
    }
   },
   "outputs": [],
   "execution_count": 6
  },
  {
   "cell_type": "code",
   "source": [
    "fac = lambda n: reduce(lambda x, y: x * y, range(1, n+1))\n",
    "fac(5)"
   ],
   "metadata": {
    "id": "mPf6QKmQE91g",
    "ExecuteTime": {
     "end_time": "2024-11-19T23:02:50.376246Z",
     "start_time": "2024-11-19T23:02:50.360665Z"
    }
   },
   "outputs": [
    {
     "data": {
      "text/plain": [
       "120"
      ]
     },
     "execution_count": 11,
     "metadata": {},
     "output_type": "execute_result"
    }
   ],
   "execution_count": 11
  },
  {
   "cell_type": "code",
   "source": [
    "#  4) réécrivez la fonction is_palindrome de façon récursive\n",
    "\n",
    "def is_palindrome(word):\n",
    "    \"\"\"Return True if word is a palindrome, False if not.\"\"\"\n",
    "    return word == word[::-1]\n"
   ],
   "metadata": {
    "id": "qzXdhuApE-Kc"
   },
   "execution_count": null,
   "outputs": []
  },
  {
   "cell_type": "code",
   "source": [],
   "metadata": {
    "id": "mBcYmwUMHPl_"
   },
   "execution_count": null,
   "outputs": []
  },
  {
   "cell_type": "code",
   "source": [
    "# 5) réécrivez la fonction qui calcule la suite de Fibonacci de manière à minimiser le nombre d'appels (n max ! )\n",
    "\n",
    "def fibonacci_recursive(n):\n",
    "    print(\"Calculating F\", \"(\", n, \")\", sep=\"\", end=\",\\n\")\n",
    "\n",
    "    # Base case\n",
    "    if n == 0:\n",
    "        return 0\n",
    "    elif n == 1:\n",
    "        return 1\n",
    "\n",
    "    # Recursive case\n",
    "    else:\n",
    "        return fibonacci_recursive(n-1) + fibonacci_recursive(n-2)\n",
    "\n",
    "fibonacci_recursive(6)"
   ],
   "metadata": {
    "colab": {
     "base_uri": "https://localhost:8080/"
    },
    "id": "ANOxB8-JHPue",
    "outputId": "a06e26bf-f40f-4f2a-fa41-c47f3d3d0b2a"
   },
   "execution_count": 5,
   "outputs": [
    {
     "output_type": "stream",
     "name": "stdout",
     "text": [
      "Calculating F(6),\n",
      "Calculating F(5),\n",
      "Calculating F(4),\n",
      "Calculating F(3),\n",
      "Calculating F(2),\n",
      "Calculating F(1),\n",
      "Calculating F(0),\n",
      "Calculating F(1),\n",
      "Calculating F(2),\n",
      "Calculating F(1),\n",
      "Calculating F(0),\n",
      "Calculating F(3),\n",
      "Calculating F(2),\n",
      "Calculating F(1),\n",
      "Calculating F(0),\n",
      "Calculating F(1),\n",
      "Calculating F(4),\n",
      "Calculating F(3),\n",
      "Calculating F(2),\n",
      "Calculating F(1),\n",
      "Calculating F(0),\n",
      "Calculating F(1),\n",
      "Calculating F(2),\n",
      "Calculating F(1),\n",
      "Calculating F(0),\n"
     ]
    },
    {
     "output_type": "execute_result",
     "data": {
      "text/plain": [
       "8"
      ]
     },
     "metadata": {},
     "execution_count": 5
    }
   ]
  },
  {
   "cell_type": "code",
   "source": [],
   "metadata": {
    "id": "woQXbZiZHP2W"
   },
   "execution_count": null,
   "outputs": []
  }
 ]
}
